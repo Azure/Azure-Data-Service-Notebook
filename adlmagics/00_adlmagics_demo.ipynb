{
 "cells": [
  {
   "cell_type": "code",
   "execution_count": 1,
   "metadata": {},
   "outputs": [
    {
     "name": "stdout",
     "output_type": "stream",
     "text": [
      "AdlMagics initialized\r\n"
     ]
    }
   ],
   "source": [
    "%reload_ext adlmagics"
   ]
  },
  {
   "cell_type": "code",
   "execution_count": 4,
   "metadata": {},
   "outputs": [
    {
     "name": "stdout",
     "output_type": "stream",
     "text": [
      "Waiting for user login...\r\n",
      "To sign in, use a web browser to open the page https://microsoft.com/devicelogin and enter the code H97BEZKAF to authenticate.\r\n",
      "User 'ruxu@microsoft.com' logged in to tenant 'microsoft.onmicrosoft.com'\r\n"
     ]
    }
   ],
   "source": [
    "%adl login --tenant microsoft.onmicrosoft.com"
   ]
  },
  {
   "cell_type": "code",
   "execution_count": 3,
   "metadata": {},
   "outputs": [
    {
     "name": "stdout",
     "output_type": "stream",
     "text": [
      "Listing azure data lake analytics accounts...\n",
      "(10) azure data lake analytics account(s) listed.\n",
      "accounttestaccessadla\n",
      "adfadla01\n",
      "adla4damonathdinsight\n",
      "adlabyjiajia\n",
      "adlachdou\n",
      "adlaperf02\n",
      "adlazhocha\n",
      "adlclientqa\n",
      "adlpm\n",
      "adlsperfdb5analytic\n"
     ]
    }
   ],
   "source": [
    "adl_accounts = %adl listaccounts --page_index 0 --page_account_number 10"
   ]
  },
  {
   "cell_type": "code",
   "execution_count": 4,
   "metadata": {},
   "outputs": [
    {
     "data": {
      "text/html": [
       "<div>\n",
       "<style>\n",
       "    .dataframe thead tr:only-child th {\n",
       "        text-align: right;\n",
       "    }\n",
       "\n",
       "    .dataframe thead th {\n",
       "        text-align: left;\n",
       "    }\n",
       "\n",
       "    .dataframe tbody tr th {\n",
       "        vertical-align: top;\n",
       "    }\n",
       "</style>\n",
       "<table border=\"1\" class=\"dataframe\">\n",
       "  <thead>\n",
       "    <tr style=\"text-align: right;\">\n",
       "      <th></th>\n",
       "      <th>name</th>\n",
       "    </tr>\n",
       "  </thead>\n",
       "  <tbody>\n",
       "    <tr>\n",
       "      <th>0</th>\n",
       "      <td>accounttestaccessadla</td>\n",
       "    </tr>\n",
       "    <tr>\n",
       "      <th>1</th>\n",
       "      <td>adfadla01</td>\n",
       "    </tr>\n",
       "    <tr>\n",
       "      <th>2</th>\n",
       "      <td>adla4damonathdinsight</td>\n",
       "    </tr>\n",
       "    <tr>\n",
       "      <th>3</th>\n",
       "      <td>adlabyjiajia</td>\n",
       "    </tr>\n",
       "    <tr>\n",
       "      <th>4</th>\n",
       "      <td>adlachdou</td>\n",
       "    </tr>\n",
       "    <tr>\n",
       "      <th>5</th>\n",
       "      <td>adlaperf02</td>\n",
       "    </tr>\n",
       "    <tr>\n",
       "      <th>6</th>\n",
       "      <td>adlazhocha</td>\n",
       "    </tr>\n",
       "    <tr>\n",
       "      <th>7</th>\n",
       "      <td>adlpm</td>\n",
       "    </tr>\n",
       "    <tr>\n",
       "      <th>8</th>\n",
       "      <td>adlsperfdb5analytic</td>\n",
       "    </tr>\n",
       "    <tr>\n",
       "      <th>9</th>\n",
       "      <td>adlsus15eartest</td>\n",
       "    </tr>\n",
       "  </tbody>\n",
       "</table>\n",
       "</div>"
      ],
      "text/plain": [
       "                    name\n",
       "0  accounttestaccessadla\n",
       "1              adfadla01\n",
       "2  adla4damonathdinsight\n",
       "3           adlabyjiajia\n",
       "4              adlachdou\n",
       "5             adlaperf02\n",
       "6             adlazhocha\n",
       "7                  adlpm\n",
       "8    adlsperfdb5analytic\n",
       "9        adlsus15eartest"
      ]
     },
     "execution_count": 4,
     "metadata": {},
     "output_type": "execute_result"
    }
   ],
   "source": [
    "adl_accounts.head(10)"
   ]
  },
  {
   "cell_type": "code",
   "execution_count": 11,
   "metadata": {},
   "outputs": [
    {
     "name": "stdout",
     "output_type": "stream",
     "text": [
      "Listing azure data lake jobs under account 'devtooltelemetryadla'...\r\n"
     ]
    },
    {
     "data": {
      "text/html": [
       "<table>    <caption>10 datalake analytics job(s) listed</caption>    <thead>        <tr>            <th>Job Name</th>            <th>Submitter</th>            <th>State</th>            <th>Result</th>            <th></th>        </tr>    </thead>    <tbody>        <tr title='Parallelism: 10\r\n",
       "Priority: 100\r\n",
       "Submit Time: 2018-02-27 10:54:13.590243+00:00\r\n",
       "Start Time: 2018-02-27 11:00:40.248890+00:00\r\n",
       "End Time: 2018-02-27 11:04:47.046865+00:00\r\n",
       "'>            <td>Helper_AllEventNames</td>            <td>dvttelsa@microsoft.com</td>            <td>ended</td>            <td>succeeded</td>            <td><a href='https://devtooltelemetryadla.azuredatalakeanalytics.net/jobLink/cda9e9ff-190b-42a9-b968-004345fdcf0f' target='_blank'>View Job</a></td>        </tr>        <tr title='Parallelism: 10\r\n",
       "Priority: 100\r\n",
       "Submit Time: 2017-11-14 04:25:10.435642+00:00\r\n",
       "Start Time: 2017-11-14 04:26:24.249884+00:00\r\n",
       "End Time: 2017-11-14 04:43:28.617782+00:00\r\n",
       "'>            <td>CustomerUsage_VsScopeMining_BiMonth</td>            <td>dvttelsa@microsoft.com</td>            <td>ended</td>            <td>succeeded</td>            <td><a href='https://devtooltelemetryadla.azuredatalakeanalytics.net/jobLink/a3a2d226-ad60-468f-901f-00661680e367' target='_blank'>View Job</a></td>        </tr>        <tr title='Parallelism: 10\r\n",
       "Priority: 100\r\n",
       "Submit Time: 2018-03-26 10:34:41.824805+00:00\r\n",
       "Start Time: 2018-03-26 10:52:05.636785+00:00\r\n",
       "End Time: 2018-03-26 10:59:02.143231+00:00\r\n",
       "'>            <td>2.CustomerUsage_Mining_Week</td>            <td>dvttelsa@microsoft.com</td>            <td>ended</td>            <td>succeeded</td>            <td><a href='https://devtooltelemetryadla.azuredatalakeanalytics.net/jobLink/1103a6a0-69ae-48bf-afff-0094a31100dc' target='_blank'>View Job</a></td>        </tr>        <tr title='Parallelism: 10\r\n",
       "Priority: 100\r\n",
       "Submit Time: 2017-12-18 08:57:03.493926+00:00\r\n",
       "Start Time: 2017-12-18 15:48:20.814217+00:00\r\n",
       "End Time: 2017-12-18 15:50:19.551253+00:00\r\n",
       "'>            <td>Helper_VsASAWeeklyUserIds</td>            <td>dvttelsa@microsoft.com</td>            <td>ended</td>            <td>succeeded</td>            <td><a href='https://devtooltelemetryadla.azuredatalakeanalytics.net/jobLink/20ec38e6-2f3e-43a7-b92b-00c8a5346c50' target='_blank'>View Job</a></td>        </tr>        <tr title='Parallelism: 10\r\n",
       "Priority: 100\r\n",
       "Submit Time: 2017-11-27 07:41:16.078329+00:00\r\n",
       "Start Time: 2017-11-27 08:30:29.673849+00:00\r\n",
       "End Time: 2017-11-27 11:28:08.529989+00:00\r\n",
       "'>            <td>CustomerUsage_VscodeMining_Weekly</td>            <td>dvttelsa@microsoft.com</td>            <td>ended</td>            <td>succeeded</td>            <td><a href='https://devtooltelemetryadla.azuredatalakeanalytics.net/jobLink/81b266c0-992a-43c7-b359-00ffa90f3e90' target='_blank'>View Job</a></td>        </tr>        <tr title='Parallelism: 10\r\n",
       "Priority: 100\r\n",
       "Submit Time: 2018-01-29 08:34:06.349476+00:00\r\n",
       "Start Time: 2018-01-29 23:07:36.143366+00:00\r\n",
       "End Time: 2018-01-29 23:08:11.675819+00:00\r\n",
       "'>            <td>Helper_VsHdiUnmappedEventCounts</td>            <td>dvttelsa@microsoft.com</td>            <td>ended</td>            <td>succeeded</td>            <td><a href='https://devtooltelemetryadla.azuredatalakeanalytics.net/jobLink/ea785329-7145-4b85-a04d-01a477ebe11d' target='_blank'>View Job</a></td>        </tr>        <tr title='Parallelism: 10\r\n",
       "Priority: 100\r\n",
       "Submit Time: 2018-03-05 09:31:40.361623+00:00\r\n",
       "Start Time: None\r\n",
       "End Time: 2018-03-05 09:31:59.252499+00:00\r\n",
       "'>            <td>AsaMonthlyUserAnalysis</td>            <td>dvttelsa@microsoft.com</td>            <td>ended</td>            <td>failed</td>            <td><a href='https://devtooltelemetryadla.azuredatalakeanalytics.net/jobLink/70450662-97e5-400a-b3b7-01ef28539126' target='_blank'>View Job</a></td>        </tr>        <tr title='Parallelism: 10\r\n",
       "Priority: 100\r\n",
       "Submit Time: 2018-01-29 08:33:56.052483+00:00\r\n",
       "Start Time: 2018-01-29 22:28:46.365756+00:00\r\n",
       "End Time: 2018-01-29 22:30:39.085616+00:00\r\n",
       "'>            <td>FeatureUsage_VsScopeMining_Month</td>            <td>dvttelsa@microsoft.com</td>            <td>ended</td>            <td>failed</td>            <td><a href='https://devtooltelemetryadla.azuredatalakeanalytics.net/jobLink/3f81906b-2fef-4bd1-a1eb-024aa01237c9' target='_blank'>View Job</a></td>        </tr>        <tr title='Parallelism: 10\r\n",
       "Priority: 100\r\n",
       "Submit Time: 2017-12-11 08:54:34.973789+00:00\r\n",
       "Start Time: 2017-12-11 08:58:16.556814+00:00\r\n",
       "End Time: 2017-12-11 08:59:48.824507+00:00\r\n",
       "'>            <td>FeatureUsage_VsASAMining_Week</td>            <td>dvttelsa@microsoft.com</td>            <td>ended</td>            <td>succeeded</td>            <td><a href='https://devtooltelemetryadla.azuredatalakeanalytics.net/jobLink/b300742b-2d39-4cf8-a2d4-02572ee49e6a' target='_blank'>View Job</a></td>        </tr>        <tr title='Parallelism: 10\r\n",
       "Priority: 100\r\n",
       "Submit Time: 2018-03-26 10:35:34.700488+00:00\r\n",
       "Start Time: 2018-03-26 15:18:08.642296+00:00\r\n",
       "End Time: 2018-03-26 15:19:14.674174+00:00\r\n",
       "'>            <td>FeatureUsage_VsASAMining_Week</td>            <td>dvttelsa@microsoft.com</td>            <td>ended</td>            <td>succeeded</td>            <td><a href='https://devtooltelemetryadla.azuredatalakeanalytics.net/jobLink/74829556-3f68-440b-be4d-02b1d75d54e1' target='_blank'>View Job</a></td>        </tr>    </tbody></table>"
      ],
      "text/plain": [
       "<IPython.core.display.HTML object>"
      ]
     },
     "metadata": {},
     "output_type": "display_data"
    }
   ],
   "source": [
    "jobs = %adl listjobs --account devtooltelemetryadla --page_index 0 --page_job_number 10 --my"
   ]
  },
  {
   "cell_type": "code",
   "execution_count": 6,
   "metadata": {},
   "outputs": [
    {
     "data": {
      "text/html": [
       "<div>\n",
       "<style>\n",
       "    .dataframe thead tr:only-child th {\n",
       "        text-align: right;\n",
       "    }\n",
       "\n",
       "    .dataframe thead th {\n",
       "        text-align: left;\n",
       "    }\n",
       "\n",
       "    .dataframe tbody tr th {\n",
       "        vertical-align: top;\n",
       "    }\n",
       "</style>\n",
       "<table border=\"1\" class=\"dataframe\">\n",
       "  <thead>\n",
       "    <tr style=\"text-align: right;\">\n",
       "      <th></th>\n",
       "      <th>id</th>\n",
       "      <th>name</th>\n",
       "      <th>type</th>\n",
       "      <th>submitter</th>\n",
       "      <th>parallelism</th>\n",
       "      <th>priority</th>\n",
       "      <th>submit_time</th>\n",
       "      <th>start_time</th>\n",
       "      <th>end_time</th>\n",
       "      <th>state</th>\n",
       "      <th>result</th>\n",
       "    </tr>\n",
       "  </thead>\n",
       "  <tbody>\n",
       "    <tr>\n",
       "      <th>0</th>\n",
       "      <td>c5fc188b-8c16-4609-bd6a-01e861b66090</td>\n",
       "      <td>test</td>\n",
       "      <td>usql</td>\n",
       "      <td>vifeng@microsoft.com</td>\n",
       "      <td>5</td>\n",
       "      <td>1000</td>\n",
       "      <td>2018-02-06 13:59:11.149322+00:00</td>\n",
       "      <td>None</td>\n",
       "      <td>2018-02-06 13:59:19.743162+00:00</td>\n",
       "      <td>ended</td>\n",
       "      <td>failed</td>\n",
       "    </tr>\n",
       "    <tr>\n",
       "      <th>1</th>\n",
       "      <td>0811450d-0526-473b-a831-020c4c8631c3</td>\n",
       "      <td>Assembly Registration</td>\n",
       "      <td>usql</td>\n",
       "      <td>vifeng@microsoft.com</td>\n",
       "      <td>1</td>\n",
       "      <td>1000</td>\n",
       "      <td>2018-03-16 04:40:25.038822+00:00</td>\n",
       "      <td>2018-03-16 04:41:03.101811+00:00</td>\n",
       "      <td>2018-03-16 04:41:10.101927+00:00</td>\n",
       "      <td>ended</td>\n",
       "      <td>succeeded</td>\n",
       "    </tr>\n",
       "    <tr>\n",
       "      <th>2</th>\n",
       "      <td>c85b8f92-f1b4-4e37-8347-02750c93dba5</td>\n",
       "      <td>AdlaMonthlyJobCounts_201710</td>\n",
       "      <td>usql</td>\n",
       "      <td>vifeng@microsoft.com</td>\n",
       "      <td>31</td>\n",
       "      <td>1000</td>\n",
       "      <td>2017-10-23 04:21:25.309359+00:00</td>\n",
       "      <td>2017-10-23 04:22:28.951449+00:00</td>\n",
       "      <td>2017-10-23 13:11:58.598824+00:00</td>\n",
       "      <td>ended</td>\n",
       "      <td>succeeded</td>\n",
       "    </tr>\n",
       "    <tr>\n",
       "      <th>3</th>\n",
       "      <td>3943021a-3afe-41a5-9d52-03e609ceb1d3</td>\n",
       "      <td>testjob</td>\n",
       "      <td>usql</td>\n",
       "      <td>vifeng@microsoft.com</td>\n",
       "      <td>5</td>\n",
       "      <td>100</td>\n",
       "      <td>2018-02-23 09:30:02.018031+00:00</td>\n",
       "      <td>None</td>\n",
       "      <td>2018-02-23 09:30:18.861823+00:00</td>\n",
       "      <td>ended</td>\n",
       "      <td>failed</td>\n",
       "    </tr>\n",
       "    <tr>\n",
       "      <th>4</th>\n",
       "      <td>4878a1fb-5e16-46d9-ba29-0ca14ace8750</td>\n",
       "      <td>Assembly Registration</td>\n",
       "      <td>usql</td>\n",
       "      <td>vifeng@microsoft.com</td>\n",
       "      <td>1</td>\n",
       "      <td>1000</td>\n",
       "      <td>2018-03-16 05:03:01.339640+00:00</td>\n",
       "      <td>None</td>\n",
       "      <td>2018-03-16 05:03:13.059215+00:00</td>\n",
       "      <td>ended</td>\n",
       "      <td>failed</td>\n",
       "    </tr>\n",
       "  </tbody>\n",
       "</table>\n",
       "</div>"
      ],
      "text/plain": [
       "                                     id                         name  type  \\\n",
       "0  c5fc188b-8c16-4609-bd6a-01e861b66090                         test  usql   \n",
       "1  0811450d-0526-473b-a831-020c4c8631c3        Assembly Registration  usql   \n",
       "2  c85b8f92-f1b4-4e37-8347-02750c93dba5  AdlaMonthlyJobCounts_201710  usql   \n",
       "3  3943021a-3afe-41a5-9d52-03e609ceb1d3                      testjob  usql   \n",
       "4  4878a1fb-5e16-46d9-ba29-0ca14ace8750        Assembly Registration  usql   \n",
       "\n",
       "              submitter  parallelism  priority  \\\n",
       "0  vifeng@microsoft.com            5      1000   \n",
       "1  vifeng@microsoft.com            1      1000   \n",
       "2  vifeng@microsoft.com           31      1000   \n",
       "3  vifeng@microsoft.com            5       100   \n",
       "4  vifeng@microsoft.com            1      1000   \n",
       "\n",
       "                        submit_time                        start_time  \\\n",
       "0  2018-02-06 13:59:11.149322+00:00                              None   \n",
       "1  2018-03-16 04:40:25.038822+00:00  2018-03-16 04:41:03.101811+00:00   \n",
       "2  2017-10-23 04:21:25.309359+00:00  2017-10-23 04:22:28.951449+00:00   \n",
       "3  2018-02-23 09:30:02.018031+00:00                              None   \n",
       "4  2018-03-16 05:03:01.339640+00:00                              None   \n",
       "\n",
       "                           end_time  state     result  \n",
       "0  2018-02-06 13:59:19.743162+00:00  ended     failed  \n",
       "1  2018-03-16 04:41:10.101927+00:00  ended  succeeded  \n",
       "2  2017-10-23 13:11:58.598824+00:00  ended  succeeded  \n",
       "3  2018-02-23 09:30:18.861823+00:00  ended     failed  \n",
       "4  2018-03-16 05:03:13.059215+00:00  ended     failed  "
      ]
     },
     "execution_count": 6,
     "metadata": {},
     "output_type": "execute_result"
    }
   ],
   "source": [
    "jobs.head(5)"
   ]
  },
  {
   "cell_type": "code",
   "execution_count": 5,
   "metadata": {
    "scrolled": true
   },
   "outputs": [
    {
     "name": "stdout",
     "output_type": "stream",
     "text": [
      "Submitting azure data lake job to account 'devtooltelemetryadla'...\n",
      "Job submitted.\n",
      "\tId: ff3ea8e3-81de-44d6-9261-a22c38184bb2\n",
      "\tName: testjob_via_dl_app_20180411_by_dvttelsa\n",
      "\tType: usql\n",
      "\tSubmitter: ruxu@microsoft.com\n",
      "\tParallelism: 5\n",
      "\tPriority: 100\n",
      "\tSubmit time: 2018-04-18 08:23:47.085449+00:00\n",
      "\tStart time: None\n",
      "\tEnd time: None\n",
      "\tState: compiling\n",
      "\tResult: none\n"
     ]
    },
    {
     "data": {
      "text/plain": [
       "<models.adla_job.AdlaJob at 0x2eb5df0>"
      ]
     },
     "execution_count": 5,
     "metadata": {},
     "output_type": "execute_result"
    }
   ],
   "source": [
    "%%adl submitjob --account devtooltelemetryadla --name testjob_via_dl_app_20180411_by_dvttelsa --parallelism 5 --priority 100 --runtime default\n",
    "\n",
    "@searchlog =\n",
    "    EXTRACT UserId int,\n",
    "            Start DateTime,\n",
    "            Region string,\n",
    "            Query string,\n",
    "            Duration int?,\n",
    "            Urls string,\n",
    "            ClickedUrls string\n",
    "    FROM \"/Samples/Data/SearchLog.tsv\"\n",
    "    USING Extractors.Tsv();\n",
    "\n",
    "OUTPUT @searchlog\n",
    "TO \"/Samples/AdlMagicsDemoSearchLogResult.csv\"\n",
    "USING Outputters.Csv();"
   ]
  },
  {
   "cell_type": "code",
   "execution_count": 6,
   "metadata": {},
   "outputs": [
    {
     "name": "stdout",
     "output_type": "stream",
     "text": [
      "Viewing azure data lake job by id '36a62f78-1881-4895-8a6a-9e37b497582d' under account 'devtooltelemetryadla'...\n",
      "Azure data lake job info:\n",
      "\tName: testjob_via_dl_app_20180411_by_dvttelsa\n",
      "\tType: usql\n",
      "\tSubmitter: dvttelsa@microsoft.com\n",
      "\tParallelism: 5\n",
      "\tPriority: 100\n",
      "\tSubmit time: 2018-04-11 04:42:18.649130+00:00\n",
      "\tStart time: 2018-04-11 04:44:13.493305+00:00\n",
      "\tEnd time: 2018-04-11 04:44:42.837144+00:00\n",
      "\tState: ended\n",
      "\tResult: succeeded\n"
     ]
    },
    {
     "data": {
      "text/html": [
       "<div>\n",
       "<style scoped>\n",
       "    .dataframe tbody tr th:only-of-type {\n",
       "        vertical-align: middle;\n",
       "    }\n",
       "\n",
       "    .dataframe tbody tr th {\n",
       "        vertical-align: top;\n",
       "    }\n",
       "\n",
       "    .dataframe thead th {\n",
       "        text-align: right;\n",
       "    }\n",
       "</style>\n",
       "<table border=\"1\" class=\"dataframe\">\n",
       "  <thead>\n",
       "    <tr style=\"text-align: right;\">\n",
       "      <th></th>\n",
       "      <th>id</th>\n",
       "      <th>name</th>\n",
       "      <th>type</th>\n",
       "      <th>submitter</th>\n",
       "      <th>parallelism</th>\n",
       "      <th>priority</th>\n",
       "      <th>submit_time</th>\n",
       "      <th>start_time</th>\n",
       "      <th>end_time</th>\n",
       "      <th>state</th>\n",
       "      <th>result</th>\n",
       "    </tr>\n",
       "  </thead>\n",
       "  <tbody>\n",
       "    <tr>\n",
       "      <th>0</th>\n",
       "      <td>36a62f78-1881-4895-8a6a-9e37b497582d</td>\n",
       "      <td>testjob_via_dl_app_20180411_by_dvttelsa</td>\n",
       "      <td>usql</td>\n",
       "      <td>dvttelsa@microsoft.com</td>\n",
       "      <td>5</td>\n",
       "      <td>100</td>\n",
       "      <td>2018-04-11 04:42:18.649130+00:00</td>\n",
       "      <td>2018-04-11 04:44:13.493305+00:00</td>\n",
       "      <td>2018-04-11 04:44:42.837144+00:00</td>\n",
       "      <td>ended</td>\n",
       "      <td>succeeded</td>\n",
       "    </tr>\n",
       "  </tbody>\n",
       "</table>\n",
       "</div>"
      ],
      "text/plain": [
       "                                     id  \\\n",
       "0  36a62f78-1881-4895-8a6a-9e37b497582d   \n",
       "\n",
       "                                      name  type               submitter  \\\n",
       "0  testjob_via_dl_app_20180411_by_dvttelsa  usql  dvttelsa@microsoft.com   \n",
       "\n",
       "   parallelism  priority                      submit_time  \\\n",
       "0            5       100 2018-04-11 04:42:18.649130+00:00   \n",
       "\n",
       "                        start_time                         end_time  state  \\\n",
       "0 2018-04-11 04:44:13.493305+00:00 2018-04-11 04:44:42.837144+00:00  ended   \n",
       "\n",
       "      result  \n",
       "0  succeeded  "
      ]
     },
     "execution_count": 6,
     "metadata": {},
     "output_type": "execute_result"
    }
   ],
   "source": [
    "%adl viewjob --account devtooltelemetryadla --job_id 36a62f78-1881-4895-8a6a-9e37b497582d"
   ]
  },
  {
   "cell_type": "code",
   "execution_count": 15,
   "metadata": {},
   "outputs": [
    {
     "name": "stdout",
     "output_type": "stream",
     "text": [
      "Listing azure data lake store accounts...\n",
      "(5) azure data lake store account(s) listed.\n",
      "adls4damonathdinsight\n",
      "adltoolsmigration01\n",
      "afnanadlstore\n",
      "asatestdatalakestore\n",
      "devtoolqaadls\n"
     ]
    }
   ],
   "source": [
    "adls_accounts = %adl liststoreaccounts"
   ]
  },
  {
   "cell_type": "code",
   "execution_count": null,
   "metadata": {
    "collapsed": true
   },
   "outputs": [],
   "source": [
    "adls_accounts.head(10)"
   ]
  },
  {
   "cell_type": "code",
   "execution_count": 16,
   "metadata": {},
   "outputs": [
    {
     "name": "stdout",
     "output_type": "stream",
     "text": [
      "Listing azure data lake store folders under folder 'vifeng' of account 'devtooltelemetryadls'...\r\n"
     ]
    },
    {
     "data": {
      "text/html": [
       "<table>    <caption>2 datalake store folder(s) listed</caption>    <thead>        <tr>            <th>Folder Name</th>            <th>Last Access Time</th>            <th>Last Modified Time</th>            <th>Path</th>        </tr>    </thead>    <tbody>        <tr>            <td>FailureVertexDebug</td>            <td>2017-06-27 13:10:48.540000</td>            <td>2017-06-27 13:10:59.696000</td>            <td>vifeng/FailureVertexDebug</td>        </tr>        <tr>            <td>MonthlyUserIds</td>            <td>2017-07-06 14:52:33.990000</td>            <td>2017-07-06 17:04:35.161000</td>            <td>vifeng/MonthlyUserIds</td>        </tr>    </tbody></table>"
      ],
      "text/plain": [
       "<IPython.core.display.HTML object>"
      ]
     },
     "metadata": {},
     "output_type": "display_data"
    }
   ],
   "source": [
    "folders = %adl liststorefolders --account devtooltelemetryadls --folder_path vifeng"
   ]
  },
  {
   "cell_type": "code",
   "execution_count": null,
   "metadata": {
    "collapsed": true
   },
   "outputs": [],
   "source": [
    "folders.head(10)"
   ]
  },
  {
   "cell_type": "code",
   "execution_count": 17,
   "metadata": {},
   "outputs": [
    {
     "name": "stdout",
     "output_type": "stream",
     "text": [
      "Listing azure data lake store files under folder 'vifeng' of account 'devtooltelemetryadls'...\r\n"
     ]
    },
    {
     "data": {
      "text/html": [
       "<table>    <caption>8 datalake store file(s) listed</caption>    <thead>        <tr>            <th>File Name</th>            <th>Size (Bytes)</th>            <th>Last Access Time</th>            <th>Last Modified Time</th>            <th>Path</th>        </tr>    </thead>    <tbody>        <tr>            <td>ASAUnmappedEventCounts.tsv</td>            <td>3178</td>            <td>2018-03-27 13:23:46.686000</td>            <td>2018-03-27 13:23:46.750000</td>            <td>vifeng/ASAUnmappedEventCounts.tsv</td>        </tr>        <tr>            <td>AdlUnmappedEventCounts.tsv</td>            <td>13023</td>            <td>2018-03-27 00:05:48.446000</td>            <td>2018-03-27 00:05:48.495000</td>            <td>vifeng/AdlUnmappedEventCounts.tsv</td>        </tr>        <tr>            <td>AdlaMonthlyJobCountsVsCode_201708.tsv</td>            <td>76890</td>            <td>2017-08-10 16:22:47.630000</td>            <td>2017-08-10 16:22:47.755000</td>            <td>vifeng/AdlaMonthlyJobCountsVsCode_201708.tsv</td>        </tr>        <tr>            <td>AllEventNames.tsv</td>            <td>50399</td>            <td>2018-03-27 00:03:33.226000</td>            <td>2018-03-27 00:03:33.277000</td>            <td>vifeng/AllEventNames.tsv</td>        </tr>        <tr>            <td>DataLakeConsoleAppForJava.tsv</td>            <td>3505</td>            <td>2017-07-12 17:31:14.111000</td>            <td>2017-07-12 17:31:14.253000</td>            <td>vifeng/DataLakeConsoleAppForJava.tsv</td>        </tr>        <tr>            <td>HdiUnmappedEventCounts.tsv</td>            <td>5571</td>            <td>2018-03-27 13:28:30.830000</td>            <td>2018-03-27 13:28:30.893000</td>            <td>vifeng/HdiUnmappedEventCounts.tsv</td>        </tr>        <tr>            <td>orders_sample.tbl</td>            <td>2014</td>            <td>2017-09-29 14:00:09.638000</td>            <td>2017-09-29 14:00:10.227000</td>            <td>vifeng/orders_sample.tbl</td>        </tr>        <tr>            <td>testudo.py</td>            <td>2950</td>            <td>2017-09-29 14:00:02.223000</td>            <td>2017-09-29 14:00:02.743000</td>            <td>vifeng/testudo.py</td>        </tr>    </tbody></table>"
      ],
      "text/plain": [
       "<IPython.core.display.HTML object>"
      ]
     },
     "metadata": {},
     "output_type": "display_data"
    }
   ],
   "source": [
    "files = %adl liststorefiles --account devtooltelemetryadls --folder_path vifeng"
   ]
  },
  {
   "cell_type": "code",
   "execution_count": null,
   "metadata": {
    "collapsed": true
   },
   "outputs": [],
   "source": [
    "files.head(5)"
   ]
  },
  {
   "cell_type": "code",
   "execution_count": 4,
   "metadata": {},
   "outputs": [
    {
     "name": "stdout",
     "output_type": "stream",
     "text": [
      "Sampling data lake store file 'vifeng/AdlUnmappedEventCounts.tsv'...\n",
      "(6) row(s) sampled.\n",
      "['vs/sqlipstudio', '9473']\n",
      "['vs/sqlipstudio', '9473']\n",
      "['vs/sqlipstudio', '9473']\n",
      "['vs/sqlipstudio', '9473']\n",
      "['vs/sqlipstudio', '9473']\n",
      "['vs/sqlipstudio', '9473']\n"
     ]
    }
   ],
   "source": [
    "sample_data = %adl sample --account devtooltelemetryadls --file_path vifeng/AdlUnmappedEventCounts.tsv --file_type tsv --encoding utf-8 --row_number 5"
   ]
  },
  {
   "cell_type": "code",
   "execution_count": 5,
   "metadata": {},
   "outputs": [
    {
     "name": "stdout",
     "output_type": "stream",
     "text": [
      "Sampling data lake store file '/Samples/Data/SearchLog.tsv'...\r\n",
      "(6) row(s) sampled.\r\n",
      "['\\ufeff399266', '2/15/2012 11:53:16 AM', 'en-us', 'how to make nachos', '73', 'www.nachos.com;www.wikipedia.com', 'NULL']\r\n",
      "['\\ufeff399266', '2/15/2012 11:53:16 AM', 'en-us', 'how to make nachos', '73', 'www.nachos.com;www.wikipedia.com', 'NULL']\r\n",
      "['\\ufeff399266', '2/15/2012 11:53:16 AM', 'en-us', 'how to make nachos', '73', 'www.nachos.com;www.wikipedia.com', 'NULL']\r\n",
      "['\\ufeff399266', '2/15/2012 11:53:16 AM', 'en-us', 'how to make nachos', '73', 'www.nachos.com;www.wikipedia.com', 'NULL']\r\n",
      "['\\ufeff399266', '2/15/2012 11:53:16 AM', 'en-us', 'how to make nachos', '73', 'www.nachos.com;www.wikipedia.com', 'NULL']\r\n",
      "['\\ufeff399266', '2/15/2012 11:53:16 AM', 'en-us', 'how to make nachos', '73', 'www.nachos.com;www.wikipedia.com', 'NULL']\r\n"
     ]
    }
   ],
   "source": [
    "sample_data = %adl sample --account devtooltelemetryadls --file_path /Samples/Data/SearchLog.tsv --file_type tsv --encoding utf-8 --row_number 5"
   ]
  },
  {
   "cell_type": "code",
   "execution_count": 5,
   "metadata": {},
   "outputs": [
    {
     "data": {
      "text/html": [
       "<div>\n",
       "<style>\n",
       "    .dataframe thead tr:only-child th {\n",
       "        text-align: right;\n",
       "    }\n",
       "\n",
       "    .dataframe thead th {\n",
       "        text-align: left;\n",
       "    }\n",
       "\n",
       "    .dataframe tbody tr th {\n",
       "        vertical-align: top;\n",
       "    }\n",
       "</style>\n",
       "<table border=\"1\" class=\"dataframe\">\n",
       "  <thead>\n",
       "    <tr style=\"text-align: right;\">\n",
       "      <th></th>\n",
       "      <th>0</th>\n",
       "      <th>1</th>\n",
       "    </tr>\n",
       "  </thead>\n",
       "  <tbody>\n",
       "    <tr>\n",
       "      <th>0</th>\n",
       "      <td>vs/sqlipstudio</td>\n",
       "      <td>9473</td>\n",
       "    </tr>\n",
       "    <tr>\n",
       "      <th>1</th>\n",
       "      <td>vs/sqlipstudio</td>\n",
       "      <td>9473</td>\n",
       "    </tr>\n",
       "    <tr>\n",
       "      <th>2</th>\n",
       "      <td>vs/sqlipstudio</td>\n",
       "      <td>9473</td>\n",
       "    </tr>\n",
       "    <tr>\n",
       "      <th>3</th>\n",
       "      <td>vs/sqlipstudio</td>\n",
       "      <td>9473</td>\n",
       "    </tr>\n",
       "    <tr>\n",
       "      <th>4</th>\n",
       "      <td>vs/sqlipstudio</td>\n",
       "      <td>9473</td>\n",
       "    </tr>\n",
       "  </tbody>\n",
       "</table>\n",
       "</div>"
      ],
      "text/plain": [
       "                0     1\n",
       "0  vs/sqlipstudio  9473\n",
       "1  vs/sqlipstudio  9473\n",
       "2  vs/sqlipstudio  9473\n",
       "3  vs/sqlipstudio  9473\n",
       "4  vs/sqlipstudio  9473"
      ]
     },
     "execution_count": 5,
     "metadata": {},
     "output_type": "execute_result"
    }
   ],
   "source": [
    "sample_data.head()"
   ]
  },
  {
   "cell_type": "code",
   "execution_count": 21,
   "metadata": {},
   "outputs": [
    {
     "name": "stdout",
     "output_type": "stream",
     "text": [
      "User 'dvttelsa@microsoft.com' logged out of tenant 'microsoft.onmicrosoft.com'\r\n"
     ]
    }
   ],
   "source": [
    "%adl logout"
   ]
  }
 ],
 "metadata": {
  "kernelspec": {
   "display_name": "Python 3",
   "language": "python",
   "name": "python3"
  },
  "language_info": {
   "codemirror_mode": {
    "name": "ipython",
    "version": 3
   },
   "file_extension": ".py",
   "mimetype": "text/x-python",
   "name": "python",
   "nbconvert_exporter": "python",
   "pygments_lexer": "ipython3",
   "version": "3.6.5"
  }
 },
 "nbformat": 4,
 "nbformat_minor": 2
}
